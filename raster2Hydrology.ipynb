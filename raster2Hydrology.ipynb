{
 "cells": [
  {
   "cell_type": "code",
   "execution_count": 12,
   "metadata": {},
   "outputs": [],
   "source": [
    "import geopandas as gpd\n",
    "import richdem as rd\n",
    "import rasterio\n",
    "import numpy as np\n",
    "import glob\n",
    "import pandas as pd\n",
    "import os\n",
    "from pathlib import Path\n",
    "import math\n",
    "import geopandas as gpd\n",
    "from shapely.geometry import Point\n",
    "import multiprocessing as mp\n",
    "import time\n",
    "from datetime import datetime\n",
    "import math\n",
    "from numba import jit"
   ]
  },
  {
   "cell_type": "code",
   "execution_count": 13,
   "metadata": {},
   "outputs": [],
   "source": [
    "def plot(data,color = 'jet'):\n",
    "    rd.rdShow(data,axes=False, cmap=color, figsize=(9, 6))"
   ]
  },
  {
   "cell_type": "code",
   "execution_count": 14,
   "metadata": {},
   "outputs": [],
   "source": [
    "def write_to_csv(file_name,data):\n",
    "    dir_ = str(file_name)+'.csv'\n",
    "    if os.path.isfile(dir_):\n",
    "        with open(dir_, 'a') as f:\n",
    "            data.to_csv(f, index=False, header=False)\n",
    "    else:\n",
    "        with open(dir_, 'a') as f:\n",
    "            data.to_csv(f, index=False, header=True)"
   ]
  },
  {
   "cell_type": "code",
   "execution_count": 15,
   "metadata": {},
   "outputs": [],
   "source": [
    "@jit(nopython=True)\n",
    "def check_not_null(m):\n",
    "    l = []\n",
    "    for i in range(m.shape[0]):\n",
    "        for j in range(m.shape[1]):\n",
    "            if m[i,j]!=0:\n",
    "                l.append([i,j])\n",
    "    return l"
   ]
  },
  {
   "cell_type": "code",
   "execution_count": 24,
   "metadata": {},
   "outputs": [],
   "source": [
    "# @jit\n",
    "def distance(i,j):\n",
    "    return (i[0]-j[0])**2+(i[1]-j[1])**2"
   ]
  },
  {
   "cell_type": "code",
   "execution_count": 25,
   "metadata": {},
   "outputs": [
    {
     "name": "stdout",
     "output_type": "stream",
     "text": [
      "1272.533652906026\n"
     ]
    }
   ],
   "source": [
    "@jit\n",
    "def haversine(loc1, loc2):\n",
    "\n",
    "    # convert decimal degrees to radians \n",
    "    lon1, lat1 = map(math.radians, loc1)\n",
    "    lon2, lat2 = map(math.radians, loc2)\n",
    "    # haversine formula \n",
    "    dlon = lon2 - lon1 \n",
    "    dlat = lat2 - lat1 \n",
    "    a = math.sin(dlat/2)**2 + math.cos(lat1) * math.cos(lat2) * math.sin(dlon/2)**2\n",
    "    c = 2 * math.asin(math.sqrt(a)) \n",
    "    m = 6367000 * c\n",
    "    return m\n",
    "\n",
    "print(haversine( (-70.92643518584309, 42.167083332676334), (-70.917175926573876 ,42.157916665999807)))"
   ]
  },
  {
   "cell_type": "code",
   "execution_count": 26,
   "metadata": {},
   "outputs": [],
   "source": [
    "@jit(nopython=True)\n",
    "def min_val_pos(v,l):\n",
    "    val = 999999\n",
    "    pos = None\n",
    "    for i in l:\n",
    "        j = distance(v,i)\n",
    "        if j<val:\n",
    "            val = j\n",
    "            pos = i\n",
    "    return pos"
   ]
  },
  {
   "cell_type": "code",
   "execution_count": 27,
   "metadata": {},
   "outputs": [],
   "source": [
    "def dataToCSV(data,df):\n",
    "\n",
    "    gp_df = gpd.GeoDataFrame(data, crs=\"EPSG:4326\",geometry='geometry')\n",
    "    df = gpd.GeoDataFrame(df, crs=\"EPSG:4326\",geometry='geometry')\n",
    "    \n",
    "    gp_df['centroid'] = gp_df['geometry']\n",
    "    \n",
    "    js = gpd.sjoin(df[['FIPS','geometry']], gp_df, how=\"left\", op='contains')\n",
    "    \n",
    "    js.drop('geometry',axis=1,inplace=True)\n",
    "    js.drop('index_right',axis=1,inplace=True)\n",
    "    js.rename(columns = {'centroid':'geometry'},inplace=True)\n",
    "    js.dropna(inplace=True)\n",
    "    \n",
    "    for i in js.groupby('FIPS'):\n",
    "        write_to_csv(i[0],i[1])"
   ]
  },
  {
   "cell_type": "code",
   "execution_count": 28,
   "metadata": {},
   "outputs": [],
   "source": [
    "from concurrent.futures import ProcessPoolExecutor\n",
    "\n",
    "def multiprocessing(func, args, workers):\n",
    "    with ProcessPoolExecutor(max_workers=workers) as executor:\n",
    "        res = executor.map(func, args)\n",
    "    return list(res)"
   ]
  },
  {
   "cell_type": "code",
   "execution_count": 29,
   "metadata": {},
   "outputs": [],
   "source": [
    "# @jit(parallel = True)\n",
    "def vdf_hfd(path):\n",
    "\n",
    "    beau = rasterio.open(path)\n",
    "    madeenah_rio_band1 = beau.read(1).astype('float64')\n",
    "    madeenah_richdem = rd.rdarray(madeenah_rio_band1, no_data=-9999)\n",
    "    \n",
    "\n",
    "    \n",
    "    rd.FillDepressions(madeenah_richdem, epsilon=True, in_place=True)\n",
    "    accum_d8 = rd.FlowAccumulation(madeenah_richdem, method='Quinn')\n",
    "\n",
    "    accum_d8[accum_d8<150]=0\n",
    "    accum_d8[accum_d8!=0]=1\n",
    "    m = accum_d8*madeenah_richdem\n",
    "\n",
    "  \n",
    "    \n",
    "    l = check_not_null(m)\n",
    "    dim = m.shape\n",
    "\n",
    "    hfd = np.zeros(shape=(dim[0],dim[1]))\n",
    "    vfd = np.zeros(shape=(dim[0],dim[1]))\n",
    "    \n",
    "    madeenah_rich_slope = rd.TerrainAttribute(madeenah_richdem, attrib='slope_degrees').round(2)\n",
    "    madeenah_rich_aspect = rd.TerrainAttribute(madeenah_richdem, attrib='aspect').round(2)\n",
    "    \n",
    "    accum_8 = rd.FlowAccumulation(madeenah_richdem, method='D8')\n",
    "    \n",
    "    try:\n",
    "\n",
    "        for i in range(dim[0]):\n",
    "            for j in range(dim[1]):\n",
    "                if m[i,j]==0:\n",
    "                    d = min_val_pos((i,j),l)\n",
    "                    vfd[i,j] = m[d[0],d[1]]\n",
    "                    hfd[i,j] = haversine(beau.xy(i,j),beau.xy(d[0],d[1]))\n",
    "                else:\n",
    "                    vfd[i,j] = m[i,j]\n",
    "\n",
    "\n",
    "        vfd =  madeenah_richdem-vfd\n",
    "        vfd[vfd<0]=0\n",
    "\n",
    "        hfd = rd.rdarray(hfd, no_data=-9999)\n",
    "        vfd = rd.rdarray(vfd, no_data=-9999)\n",
    "\n",
    "\n",
    "        pnt_data = {'elevation':[],'vfd':[],'slope':[],'aspect':[],'upslopeArea':[],'twi':[],'hfd':[],'geometry':[]}\n",
    "        for i in range(0,m.shape[0]):\n",
    "            for j in range(0,m.shape[1]):\n",
    "                pnt_data['elevation'].append(madeenah_richdem[i,j].round(2))\n",
    "                pnt_data['geometry'].append(Point(beau.xy(i,j)))\n",
    "                pnt_data['vfd'].append(vfd[i,j].round(2))\n",
    "                pnt_data['hfd'].append(hfd[i,j].round(2))\n",
    "                pnt_data['slope'].append(madeenah_rich_slope[i,j].round(2))\n",
    "                pnt_data['aspect'].append(madeenah_rich_aspect[i,j].round(2))\n",
    "                \n",
    "                pnt_data['upslopeArea'].append(accum_8[i,j].round(2))\n",
    "                twi = math.log((accum_8[i,j]+10)/(math.tan(madeenah_rich_slope[i,j]*0.01746)+0.01))\n",
    "                pnt_data['twi'].append(round(twi,2))\n",
    "        \n",
    "\n",
    "\n",
    "        dataToCSV(pnt_data,censusRaster)\n",
    "#         os.remove(path)\n",
    "        \n",
    "    except:\n",
    "        print('ERROR : {}'.format(path))\n",
    "#         os.rename(path,'/home/cyberboxer_v10/rr/distanceCalculation/rasterProcessed/'+path.split('/')[-1])"
   ]
  },
  {
   "cell_type": "code",
   "execution_count": null,
   "metadata": {},
   "outputs": [],
   "source": [
    "%%time\n",
    "import time\n",
    "\n",
    "if __name__==\"__main__\":\n",
    "        \n",
    "    global censusRaster\n",
    "    \n",
    "    censusRaster = gpd.read_file('ny_census-shape_file.geojson')\n",
    "    censusRaster = censusRaster[['FIPS','geometry']]\n",
    "        \n",
    "    for file in glob.glob('result/*.tif'):\n",
    "        s = time.time()\n",
    "        vdf_hfd(file)\n",
    "        print(time.time()-s)\n"
   ]
  },
  {
   "cell_type": "code",
   "execution_count": null,
   "metadata": {},
   "outputs": [],
   "source": []
  }
 ],
 "metadata": {
  "kernelspec": {
   "display_name": "Python 3",
   "language": "python",
   "name": "python3"
  },
  "language_info": {
   "codemirror_mode": {
    "name": "ipython",
    "version": 3
   },
   "file_extension": ".py",
   "mimetype": "text/x-python",
   "name": "python",
   "nbconvert_exporter": "python",
   "pygments_lexer": "ipython3",
   "version": "3.8.5"
  }
 },
 "nbformat": 4,
 "nbformat_minor": 4
}
